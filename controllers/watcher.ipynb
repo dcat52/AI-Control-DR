{
 "cells": [
  {
   "cell_type": "code",
   "execution_count": 2,
   "outputs": [],
   "source": [
    "# %matplotlib notebook\n",
    "# %matplotlib inline\n",
    "#\n",
    "# import tensorwatch as tw\n",
    "# cli = tw.WatcherClient()\n",
    "#\n",
    "# # Live Rewards\n",
    "# st_rw = cli.open_stream('rewards')\n",
    "# st_rw_plot = tw.Visualizer(st_rw, vis_type='scatter', title='Reward Stream', dim_history=False)\n",
    "# st_rw_plot.show()\n",
    "# st_rw_stats = tw.Visualizer(st_rw, vis_type='summary', title='Rewards Stream')\n",
    "# st_rw_stats.show()\n",
    "#\n",
    "# # Culmulative Episodic Rewards\n",
    "# st_ep_rw = cli.open_stream('ep_rewards')\n",
    "# st_ep_rw_plot = tw.Visualizer(st_ep_rw, vis_type='scatter', title='Episodic Rewards', cell=st_rw_plot)\n",
    "# # st_ep_rw_plot.show()\n",
    "# st_ep_rw_stats = tw.Visualizer(st_ep_rw, vis_type='summary', title='Episodic Rewards', cell=st_rw_stats)\n",
    "# st_ep_rw_stats.show()"
   ],
   "metadata": {
    "collapsed": false,
    "pycharm": {
     "name": "#%%\n"
    }
   }
  },
  {
   "cell_type": "code",
   "execution_count": 3,
   "outputs": [],
   "source": [
    "# LazyLogging\n",
    "# %matplotlib notebook\n",
    "# import tensorwatch as tw\n",
    "# client = tw.WatcherClient()\n",
    "# stream = client.create_stream(expr='lambda d: d.actor_model.variables[1][0]')\n",
    "# line_plot = tw.Visualizer(stream, vis_type='summary')\n",
    "# line_plot.show()\n"
   ],
   "metadata": {
    "collapsed": false,
    "pycharm": {
     "name": "#%%\n"
    }
   }
  },
  {
   "cell_type": "code",
   "execution_count": 7,
   "outputs": [
    {
     "data": {
      "text/plain": "HBox(children=(Output(),))",
      "application/vnd.jupyter.widget-view+json": {
       "version_major": 2,
       "version_minor": 0,
       "model_id": "a5321cd78e1c424595803e9eb5250f5b"
      }
     },
     "metadata": {},
     "output_type": "display_data"
    }
   ],
   "source": [
    "# %matplotlib notebook\n",
    "# %matplotlib inline\n",
    "#\n",
    "# import tensorwatch as tw\n",
    "# cli = tw.WatcherClient()\n",
    "# st_actor_weights0 = cli.open_stream('actor_weights0')\n",
    "# st_actor_weights1 = cli.open_stream('actor_weights1')\n",
    "# st_actor_weights2 = cli.open_stream('actor_weights2')\n",
    "# st_actor_weights3 = cli.open_stream('actor_weights3')\n",
    "# st_actor_weights4 = cli.open_stream('actor_weights4')\n",
    "# st_actor_weights5 = cli.open_stream('actor_weights5')\n",
    "# actor_weight_plot = tw.Visualizer(st_actor_weights0, vis_type='line')\n",
    "# actor_weight_plot1 = tw.Visualizer(st_actor_weights1, vis_type='line', host=actor_weight_plot)\n",
    "# actor_weight_plot2 = tw.Visualizer(st_actor_weights2, vis_type='line', host=actor_weight_plot)\n",
    "# actor_weight_plot3 = tw.Visualizer(st_actor_weights3, vis_type='line', host=actor_weight_plot)\n",
    "# actor_weight_plot4 = tw.Visualizer(st_actor_weights4, vis_type='line', host=actor_weight_plot)\n",
    "# actor_weight_plot5 = tw.Visualizer(st_actor_weights5, vis_type='line', host=actor_weight_plot)\n",
    "# actor_weight_plot.show()"
   ],
   "metadata": {
    "collapsed": false,
    "pycharm": {
     "name": "#%%\n"
    }
   }
  }
 ],
 "metadata": {
  "kernelspec": {
   "name": "pycharm-8565d977",
   "language": "python",
   "display_name": "PyCharm (monodepth2)"
  },
  "language_info": {
   "codemirror_mode": {
    "name": "ipython",
    "version": 2
   },
   "file_extension": ".py",
   "mimetype": "text/x-python",
   "name": "python",
   "nbconvert_exporter": "python",
   "pygments_lexer": "ipython2",
   "version": "2.7.6"
  }
 },
 "nbformat": 4,
 "nbformat_minor": 0
}