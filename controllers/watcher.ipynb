{
 "cells": [
  {
   "cell_type": "code",
   "execution_count": 2,
   "outputs": [],
   "source": [
    "# %matplotlib notebook\n",
    "# %matplotlib inline\n",
    "#\n",
    "# import tensorwatch as tw\n",
    "# cli = tw.WatcherClient()\n",
    "#\n",
    "# # Live Rewards\n",
    "# st_rw = cli.open_stream('rewards')\n",
    "# st_rw_plot = tw.Visualizer(st_rw, vis_type='scatter', title='Reward Stream', dim_history=False)\n",
    "# st_rw_plot.show()\n",
    "# st_rw_stats = tw.Visualizer(st_rw, vis_type='summary', title='Rewards Stream')\n",
    "# st_rw_stats.show()\n",
    "#\n",
    "# # Culmulative Episodic Rewards\n",
    "# st_ep_rw = cli.open_stream('ep_rewards')\n",
    "# st_ep_rw_plot = tw.Visualizer(st_ep_rw, vis_type='scatter', title='Episodic Rewards', cell=st_rw_plot)\n",
    "# # st_ep_rw_plot.show()\n",
    "# st_ep_rw_stats = tw.Visualizer(st_ep_rw, vis_type='summary', title='Episodic Rewards', cell=st_rw_stats)\n",
    "# st_ep_rw_stats.show()"
   ],
   "metadata": {
    "collapsed": false,
    "pycharm": {
     "name": "#%%\n"
    }
   }
  },
  {
   "cell_type": "code",
   "execution_count": 3,
   "outputs": [],
   "source": [
    "# LazyLogging\n",
    "# %matplotlib notebook\n",
    "# import tensorwatch as tw\n",
    "# client = tw.WatcherClient()\n",
    "# stream = client.create_stream(expr='lambda d: d.actor_model.variables[1][0]')\n",
    "# line_plot = tw.Visualizer(stream, vis_type='summary')\n",
    "# line_plot.show()\n"
   ],
   "metadata": {
    "collapsed": false,
    "pycharm": {
     "name": "#%%\n"
    }
   }
  },
  {
   "cell_type": "code",
   "execution_count": 45,
   "outputs": [
    {
     "data": {
      "text/plain": "HBox(children=(FigureWidget({\n    'data': [{'line': {'color': 'rgb(31, 119, 180)'},\n              'mode': 'lin…",
      "application/vnd.jupyter.widget-view+json": {
       "version_major": 2,
       "version_minor": 0,
       "model_id": "147357cc340a4aa691540e441d23ab1d"
      }
     },
     "metadata": {},
     "output_type": "display_data"
    },
    {
     "name": "stderr",
     "output_type": "stream",
     "text": [
      "ERROR:root:Error in subscription callback\n",
      "Traceback (most recent call last):\n",
      "  File \"C:\\ProgramData\\Anaconda3\\envs\\CVProject\\lib\\site-packages\\tensorwatch\\zmq_wrapper.py\", line 175, in callback_wrapper\n",
      "    weak_callback()(pickle.loads(obj_s))\n",
      "  File \"C:\\ProgramData\\Anaconda3\\envs\\CVProject\\lib\\site-packages\\tensorwatch\\zmq_stream.py\", line 40, in _on_subscription_item\n",
      "    self.write(val)\n",
      "  File \"C:\\ProgramData\\Anaconda3\\envs\\CVProject\\lib\\site-packages\\tensorwatch\\zmq_stream.py\", line 51, in write\n",
      "    super(ZmqStream, self).write(stream_item)\n",
      "  File \"C:\\ProgramData\\Anaconda3\\envs\\CVProject\\lib\\site-packages\\tensorwatch\\stream.py\", line 49, in write\n",
      "    subscriber.write(stream_item, from_stream=self)\n",
      "  File \"C:\\ProgramData\\Anaconda3\\envs\\CVProject\\lib\\site-packages\\tensorwatch\\filtered_stream.py\", line 26, in write\n",
      "    return super(FilteredStream, self).write(result)\n",
      "  File \"C:\\ProgramData\\Anaconda3\\envs\\CVProject\\lib\\site-packages\\tensorwatch\\stream.py\", line 49, in write\n",
      "    subscriber.write(stream_item, from_stream=self)\n",
      "  File \"C:\\ProgramData\\Anaconda3\\envs\\CVProject\\lib\\site-packages\\tensorwatch\\stream.py\", line 49, in write\n",
      "    subscriber.write(stream_item, from_stream=self)\n",
      "  File \"C:\\ProgramData\\Anaconda3\\envs\\CVProject\\lib\\site-packages\\tensorwatch\\vis_base.py\", line 80, in write\n",
      "    VisBase.write_stream_plot(self, stream_vis, stream_item)\n",
      "  File \"C:\\ProgramData\\Anaconda3\\envs\\CVProject\\lib\\site-packages\\tensorwatch\\vis_base.py\", line 96, in write_stream_plot\n",
      "    vis._update_stream_plots()\n",
      "  File \"C:\\ProgramData\\Anaconda3\\envs\\CVProject\\lib\\site-packages\\tensorwatch\\vis_base.py\", line 170, in _update_stream_plots\n",
      "    dirty = not self._show_stream_items(stream_vis, stream_items)\n",
      "  File \"C:\\ProgramData\\Anaconda3\\envs\\CVProject\\lib\\site-packages\\tensorwatch\\plotly\\line_plot.py\", line 123, in _show_stream_items\n",
      "    elif isinstance(val, PointData):\n",
      "NameError: name 'PointData' is not defined\n",
      "ERROR:tornado.general:Uncaught exception in ZMQStream callback\n",
      "Traceback (most recent call last):\n",
      "  File \"C:\\ProgramData\\Anaconda3\\envs\\CVProject\\lib\\site-packages\\zmq\\eventloop\\zmqstream.py\", line 444, in _run_callback\n",
      "    callback(*args, **kwargs)\n",
      "  File \"C:\\ProgramData\\Anaconda3\\envs\\CVProject\\lib\\site-packages\\tensorwatch\\zmq_wrapper.py\", line 175, in callback_wrapper\n",
      "    weak_callback()(pickle.loads(obj_s))\n",
      "  File \"C:\\ProgramData\\Anaconda3\\envs\\CVProject\\lib\\site-packages\\tensorwatch\\zmq_stream.py\", line 40, in _on_subscription_item\n",
      "    self.write(val)\n",
      "  File \"C:\\ProgramData\\Anaconda3\\envs\\CVProject\\lib\\site-packages\\tensorwatch\\zmq_stream.py\", line 51, in write\n",
      "    super(ZmqStream, self).write(stream_item)\n",
      "  File \"C:\\ProgramData\\Anaconda3\\envs\\CVProject\\lib\\site-packages\\tensorwatch\\stream.py\", line 49, in write\n",
      "    subscriber.write(stream_item, from_stream=self)\n",
      "  File \"C:\\ProgramData\\Anaconda3\\envs\\CVProject\\lib\\site-packages\\tensorwatch\\filtered_stream.py\", line 26, in write\n",
      "    return super(FilteredStream, self).write(result)\n",
      "  File \"C:\\ProgramData\\Anaconda3\\envs\\CVProject\\lib\\site-packages\\tensorwatch\\stream.py\", line 49, in write\n",
      "    subscriber.write(stream_item, from_stream=self)\n",
      "  File \"C:\\ProgramData\\Anaconda3\\envs\\CVProject\\lib\\site-packages\\tensorwatch\\stream.py\", line 49, in write\n",
      "    subscriber.write(stream_item, from_stream=self)\n",
      "  File \"C:\\ProgramData\\Anaconda3\\envs\\CVProject\\lib\\site-packages\\tensorwatch\\vis_base.py\", line 80, in write\n",
      "    VisBase.write_stream_plot(self, stream_vis, stream_item)\n",
      "  File \"C:\\ProgramData\\Anaconda3\\envs\\CVProject\\lib\\site-packages\\tensorwatch\\vis_base.py\", line 96, in write_stream_plot\n",
      "    vis._update_stream_plots()\n",
      "  File \"C:\\ProgramData\\Anaconda3\\envs\\CVProject\\lib\\site-packages\\tensorwatch\\vis_base.py\", line 170, in _update_stream_plots\n",
      "    dirty = not self._show_stream_items(stream_vis, stream_items)\n",
      "  File \"C:\\ProgramData\\Anaconda3\\envs\\CVProject\\lib\\site-packages\\tensorwatch\\plotly\\line_plot.py\", line 123, in _show_stream_items\n",
      "    elif isinstance(val, PointData):\n",
      "NameError: name 'PointData' is not defined\n",
      "ERROR:tornado.general:Uncaught exception in zmqstream callback\n",
      "Traceback (most recent call last):\n",
      "  File \"C:\\ProgramData\\Anaconda3\\envs\\CVProject\\lib\\site-packages\\zmq\\eventloop\\zmqstream.py\", line 462, in _handle_events\n",
      "    self._handle_recv()\n",
      "  File \"C:\\ProgramData\\Anaconda3\\envs\\CVProject\\lib\\site-packages\\zmq\\eventloop\\zmqstream.py\", line 492, in _handle_recv\n",
      "    self._run_callback(callback, msg)\n",
      "  File \"C:\\ProgramData\\Anaconda3\\envs\\CVProject\\lib\\site-packages\\zmq\\eventloop\\zmqstream.py\", line 444, in _run_callback\n",
      "    callback(*args, **kwargs)\n",
      "  File \"C:\\ProgramData\\Anaconda3\\envs\\CVProject\\lib\\site-packages\\tensorwatch\\zmq_wrapper.py\", line 175, in callback_wrapper\n",
      "    weak_callback()(pickle.loads(obj_s))\n",
      "  File \"C:\\ProgramData\\Anaconda3\\envs\\CVProject\\lib\\site-packages\\tensorwatch\\zmq_stream.py\", line 40, in _on_subscription_item\n",
      "    self.write(val)\n",
      "  File \"C:\\ProgramData\\Anaconda3\\envs\\CVProject\\lib\\site-packages\\tensorwatch\\zmq_stream.py\", line 51, in write\n",
      "    super(ZmqStream, self).write(stream_item)\n",
      "  File \"C:\\ProgramData\\Anaconda3\\envs\\CVProject\\lib\\site-packages\\tensorwatch\\stream.py\", line 49, in write\n",
      "    subscriber.write(stream_item, from_stream=self)\n",
      "  File \"C:\\ProgramData\\Anaconda3\\envs\\CVProject\\lib\\site-packages\\tensorwatch\\filtered_stream.py\", line 26, in write\n",
      "    return super(FilteredStream, self).write(result)\n",
      "  File \"C:\\ProgramData\\Anaconda3\\envs\\CVProject\\lib\\site-packages\\tensorwatch\\stream.py\", line 49, in write\n",
      "    subscriber.write(stream_item, from_stream=self)\n",
      "  File \"C:\\ProgramData\\Anaconda3\\envs\\CVProject\\lib\\site-packages\\tensorwatch\\stream.py\", line 49, in write\n",
      "    subscriber.write(stream_item, from_stream=self)\n",
      "  File \"C:\\ProgramData\\Anaconda3\\envs\\CVProject\\lib\\site-packages\\tensorwatch\\vis_base.py\", line 80, in write\n",
      "    VisBase.write_stream_plot(self, stream_vis, stream_item)\n",
      "  File \"C:\\ProgramData\\Anaconda3\\envs\\CVProject\\lib\\site-packages\\tensorwatch\\vis_base.py\", line 96, in write_stream_plot\n",
      "    vis._update_stream_plots()\n",
      "  File \"C:\\ProgramData\\Anaconda3\\envs\\CVProject\\lib\\site-packages\\tensorwatch\\vis_base.py\", line 170, in _update_stream_plots\n",
      "    dirty = not self._show_stream_items(stream_vis, stream_items)\n",
      "  File \"C:\\ProgramData\\Anaconda3\\envs\\CVProject\\lib\\site-packages\\tensorwatch\\plotly\\line_plot.py\", line 123, in _show_stream_items\n",
      "    elif isinstance(val, PointData):\n",
      "NameError: name 'PointData' is not defined\n",
      "ERROR:asyncio:Exception in callback BaseAsyncIOLoop._handle_events(9252, 1)\n",
      "handle: <Handle BaseAsyncIOLoop._handle_events(9252, 1)>\n",
      "Traceback (most recent call last):\n",
      "  File \"C:\\ProgramData\\Anaconda3\\envs\\CVProject\\lib\\asyncio\\events.py\", line 88, in _run\n",
      "    self._context.run(self._callback, *self._args)\n",
      "  File \"C:\\ProgramData\\Anaconda3\\envs\\CVProject\\lib\\site-packages\\tornado\\platform\\asyncio.py\", line 189, in _handle_events\n",
      "    handler_func(fileobj, events)\n",
      "  File \"C:\\ProgramData\\Anaconda3\\envs\\CVProject\\lib\\site-packages\\zmq\\eventloop\\zmqstream.py\", line 462, in _handle_events\n",
      "    self._handle_recv()\n",
      "  File \"C:\\ProgramData\\Anaconda3\\envs\\CVProject\\lib\\site-packages\\zmq\\eventloop\\zmqstream.py\", line 492, in _handle_recv\n",
      "    self._run_callback(callback, msg)\n",
      "  File \"C:\\ProgramData\\Anaconda3\\envs\\CVProject\\lib\\site-packages\\zmq\\eventloop\\zmqstream.py\", line 444, in _run_callback\n",
      "    callback(*args, **kwargs)\n",
      "  File \"C:\\ProgramData\\Anaconda3\\envs\\CVProject\\lib\\site-packages\\tensorwatch\\zmq_wrapper.py\", line 175, in callback_wrapper\n",
      "    weak_callback()(pickle.loads(obj_s))\n",
      "  File \"C:\\ProgramData\\Anaconda3\\envs\\CVProject\\lib\\site-packages\\tensorwatch\\zmq_stream.py\", line 40, in _on_subscription_item\n",
      "    self.write(val)\n",
      "  File \"C:\\ProgramData\\Anaconda3\\envs\\CVProject\\lib\\site-packages\\tensorwatch\\zmq_stream.py\", line 51, in write\n",
      "    super(ZmqStream, self).write(stream_item)\n",
      "  File \"C:\\ProgramData\\Anaconda3\\envs\\CVProject\\lib\\site-packages\\tensorwatch\\stream.py\", line 49, in write\n",
      "    subscriber.write(stream_item, from_stream=self)\n",
      "  File \"C:\\ProgramData\\Anaconda3\\envs\\CVProject\\lib\\site-packages\\tensorwatch\\filtered_stream.py\", line 26, in write\n",
      "    return super(FilteredStream, self).write(result)\n",
      "  File \"C:\\ProgramData\\Anaconda3\\envs\\CVProject\\lib\\site-packages\\tensorwatch\\stream.py\", line 49, in write\n",
      "    subscriber.write(stream_item, from_stream=self)\n",
      "  File \"C:\\ProgramData\\Anaconda3\\envs\\CVProject\\lib\\site-packages\\tensorwatch\\stream.py\", line 49, in write\n",
      "    subscriber.write(stream_item, from_stream=self)\n",
      "  File \"C:\\ProgramData\\Anaconda3\\envs\\CVProject\\lib\\site-packages\\tensorwatch\\vis_base.py\", line 80, in write\n",
      "    VisBase.write_stream_plot(self, stream_vis, stream_item)\n",
      "  File \"C:\\ProgramData\\Anaconda3\\envs\\CVProject\\lib\\site-packages\\tensorwatch\\vis_base.py\", line 96, in write_stream_plot\n",
      "    vis._update_stream_plots()\n",
      "  File \"C:\\ProgramData\\Anaconda3\\envs\\CVProject\\lib\\site-packages\\tensorwatch\\vis_base.py\", line 170, in _update_stream_plots\n",
      "    dirty = not self._show_stream_items(stream_vis, stream_items)\n",
      "  File \"C:\\ProgramData\\Anaconda3\\envs\\CVProject\\lib\\site-packages\\tensorwatch\\plotly\\line_plot.py\", line 123, in _show_stream_items\n",
      "    elif isinstance(val, PointData):\n",
      "NameError: name 'PointData' is not defined\n"
     ]
    }
   ],
   "source": [
    "%matplotlib notebook\n",
    "%matplotlib inline\n",
    "\n",
    "import tensorwatch as tw\n",
    "cli = tw.WatcherClient()\n",
    "st_actor_weights0 = cli.open_stream('actor_weights0')\n",
    "actor_weight_plot = tw.Visualizer(st_actor_weights0, vis_type='scatter')\n",
    "# grads_plot = tw.Visualizer(st_actor_weights, vis_type='line')\n",
    "actor_weight_plot.show()"
   ],
   "metadata": {
    "collapsed": false,
    "pycharm": {
     "name": "#%%\n"
    }
   }
  }
 ],
 "metadata": {
  "kernelspec": {
   "name": "pycharm-8565d977",
   "language": "python",
   "display_name": "PyCharm (monodepth2)"
  },
  "language_info": {
   "codemirror_mode": {
    "name": "ipython",
    "version": 2
   },
   "file_extension": ".py",
   "mimetype": "text/x-python",
   "name": "python",
   "nbconvert_exporter": "python",
   "pygments_lexer": "ipython2",
   "version": "2.7.6"
  }
 },
 "nbformat": 4,
 "nbformat_minor": 0
}