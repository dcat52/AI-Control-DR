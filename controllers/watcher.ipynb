{
 "cells": [
  {
   "cell_type": "code",
   "execution_count": 2,
   "outputs": [
    {
     "data": {
      "text/plain": "HBox(children=(FigureWidget({\n    'data': [{'line': {'color': 'rgb(31, 119, 180)'},\n              'mode': 'lin…",
      "application/vnd.jupyter.widget-view+json": {
       "version_major": 2,
       "version_minor": 0,
       "model_id": "7731b5c1509b40afa1a9bb1096c4a3fc"
      }
     },
     "metadata": {},
     "output_type": "display_data"
    },
    {
     "data": {
      "text/plain": "HBox(children=(HTML(value=''),))",
      "application/vnd.jupyter.widget-view+json": {
       "version_major": 2,
       "version_minor": 0,
       "model_id": "48eccd13420c42d29606e8ee7ed42482"
      }
     },
     "metadata": {},
     "output_type": "display_data"
    }
   ],
   "source": [
    "%matplotlib notebook\n",
    "import tensorwatch as tw\n",
    "cli = tw.WatcherClient()\n",
    "\n",
    "\n",
    "# Live Rewards\n",
    "st_rw = cli.open_stream('rewards')\n",
    "st_rw_plot = tw.Visualizer(st_rw, vis_type='scatter', title='Reward Stream')\n",
    "st_rw_plot.show()\n",
    "st_rw_stats = tw.Visualizer(st_rw, vis_type='summary', title='Rewards Stream')\n",
    "st_rw_stats.show()\n",
    "\n",
    "# Culmulative Episodic Rewards\n",
    "st_ep_rw = cli.open_stream('ep_rewards')\n",
    "# st_ep_rw_plot = tw.Visualizer(st_ep_rw, vis_type='mpl-line', title='Episodic Rewards')\n",
    "# st_ep_rw_plot.show()\n",
    "st_ep_rw_stats = tw.Visualizer(st_ep_rw, vis_type='summary', title='Episodic Rewards', cell=st_rw_stats)\n",
    "# st_ep_rw_stats.show()"
   ],
   "metadata": {
    "collapsed": false,
    "pycharm": {
     "name": "#%%\n"
    }
   }
  },
  {
   "cell_type": "code",
   "execution_count": 7,
   "outputs": [],
   "source": [
    "# LazyLogging\n",
    "# %matplotlib notebook\n",
    "# import tensorwatch as tw\n",
    "# client = tw.WatcherClient()\n",
    "# stream = client.create_stream(expr='lambda d: np.sum(actor_model.weights[2])')\n",
    "# line_plot = tw.Visualizer(stream, vis_type='scatter')\n",
    "# line_plot.show()\n"
   ],
   "metadata": {
    "collapsed": false,
    "pycharm": {
     "name": "#%%\n"
    }
   }
  }
 ],
 "metadata": {
  "kernelspec": {
   "name": "pycharm-8565d977",
   "language": "python",
   "display_name": "PyCharm (monodepth2)"
  },
  "language_info": {
   "codemirror_mode": {
    "name": "ipython",
    "version": 2
   },
   "file_extension": ".py",
   "mimetype": "text/x-python",
   "name": "python",
   "nbconvert_exporter": "python",
   "pygments_lexer": "ipython2",
   "version": "2.7.6"
  }
 },
 "nbformat": 4,
 "nbformat_minor": 0
}