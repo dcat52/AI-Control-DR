{
 "cells": [
  {
   "cell_type": "code",
   "execution_count": 15,
   "outputs": [
    {
     "data": {
      "text/plain": "HBox(children=(HTML(value=''),))",
      "application/vnd.jupyter.widget-view+json": {
       "version_major": 2,
       "version_minor": 0,
       "model_id": "48d3f0e9ef834e00b191af6885e557b9"
      }
     },
     "metadata": {},
     "output_type": "display_data"
    }
   ],
   "source": [
    "%matplotlib notebook\n",
    "\n",
    "import tensorwatch as tw\n",
    "cli = tw.WatcherClient()\n",
    "st_rw = cli.open_stream('rewards')\n",
    "# text_vis = tw.Visualizer(st_rw, vis_type='text')\n",
    "# text_vis.show()\n",
    "# line_plot = tw.Visualizer(st_rw, vis_type='line')\n",
    "# line_plot.show()\n",
    "istats = tw.Visualizer(st_rw, vis_type='summary')\n",
    "istats.show()"
   ],
   "metadata": {
    "collapsed": false,
    "pycharm": {
     "name": "#%%\n"
    }
   }
  }
 ],
 "metadata": {
  "kernelspec": {
   "name": "pycharm-8565d977",
   "language": "python",
   "display_name": "PyCharm (monodepth2)"
  },
  "language_info": {
   "codemirror_mode": {
    "name": "ipython",
    "version": 2
   },
   "file_extension": ".py",
   "mimetype": "text/x-python",
   "name": "python",
   "nbconvert_exporter": "python",
   "pygments_lexer": "ipython2",
   "version": "2.7.6"
  }
 },
 "nbformat": 4,
 "nbformat_minor": 0
}